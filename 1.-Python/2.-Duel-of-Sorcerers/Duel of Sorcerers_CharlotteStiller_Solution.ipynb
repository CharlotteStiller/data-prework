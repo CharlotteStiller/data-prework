{
 "cells": [
  {
   "cell_type": "code",
   "execution_count": 42,
   "metadata": {},
   "outputs": [
    {
     "name": "stdout",
     "output_type": "stream",
     "text": [
      "Out of 10 clashes\n",
      "Gandalf wins 6 clashes\n",
      "Saruman wins 4 clashes\n",
      "Gandalf wins\n"
     ]
    }
   ],
   "source": [
    "# 1. Create two variables called gandalf and saruman and assign them the spell power lists. Create a variable called spells to store the number of spells that the sorcerers cast.\n",
    "\n",
    "gandalf = [10, 11, 13, 30, 22, 11, 10, 33, 22, 22]\n",
    "saruman = [23, 66, 12, 43, 12, 10, 44, 23, 12, 17]\n",
    "\n",
    "spells = len(gandalf)\n",
    "\n",
    "\n",
    "# 2. Create two variables called gandalf_wins and saruman_wins. Set both of them to 0.\n",
    "\n",
    "gandalf_wins = []\n",
    "saruman_wins = []\n",
    "\n",
    "# 3. Using the lists of spells of both sorcerers, update variables gandalf_wins and saruman_wins to count the number of times each sorcerer wins a clash.\n",
    "count= 0\n",
    "\n",
    "for i in gandalf:  \n",
    "    if saruman[count] > gandalf[count]:\n",
    "        saruman_wins.append(1)\n",
    "    else:\n",
    "        gandalf_wins.append(1)\n",
    "\n",
    "    count += 1\n",
    "\n",
    "print(\"Out of\", spells, \"clashes\")    \n",
    "print(\"Gandalf wins\", len(gandalf_wins), \"clashes\")\n",
    "print(\"Saruman wins\", len(saruman_wins), \"clashes\")    \n",
    "    \n",
    "# 4 Who won the battle?\n",
    "    \n",
    "if len(gandalf_wins) > len(saruman_wins):\n",
    "        print(\"Gandalf wins\")\n",
    "elif len(gandalf_wins) < len(saruman_wins):   \n",
    "        print(\"Saruman wins\")\n",
    "else: \n",
    "        print(\"Tie\")\n",
    "        \n",
    "\n",
    "\n",
    "\n"
   ]
  },
  {
   "cell_type": "code",
   "execution_count": 3,
   "metadata": {},
   "outputs": [
    {
     "name": "stdout",
     "output_type": "stream",
     "text": [
      "The winner is Gandalf !\n",
      "The average spell power of Gandalf is 39.0\n",
      "The average spell power of Saruman is 30.5\n",
      "The standard deviation of saruman spell power is 15.132745950421556\n",
      "The standard deviation of saruman spell power is 15.56438241627338\n"
     ]
    }
   ],
   "source": [
    "# 1. Create variables POWER, gandalf and saruman as seen above. Create a variable called spells to store the number of spells that the sorcerers cast.\n",
    "\n",
    "POWER = {'Fireball': 50, 'Lightning bolt': 40, 'Magic arrow': 10, 'Black Tentacles': 25,'Contagion': 45}\n",
    "gandalf = ['Fireball', 'Lightning bolt', 'Lightning bolt', 'Magic arrow', 'Fireball', \n",
    "           'Magic arrow', 'Lightning bolt', 'Fireball','Fireball', 'Fireball']\n",
    "saruman = ['Contagion', 'Contagion', 'Black Tentacles', 'Fireball', 'Black Tentacles', \n",
    "           'Lightning bolt', 'Magic arrow', 'Contagion', 'Magic arrow', 'Magic arrow']\n",
    "spell = []\n",
    "\n",
    "# 2. Create two variables called gandalf_wins and saruman_wins. Set both of them to 0.\n",
    "\n",
    "gandalf_wins = 0\n",
    "saruman_wins = 0\n",
    "\n",
    "# 3. Create two variables called gandalf_power and saruman_power to store the list of spell powers of each sorcerer.¶\n",
    "\n",
    "gandalf_power = []\n",
    "saruman_power = []\n",
    "\n",
    "\n",
    "# 4. The battle starts! Using the variables you've created above, code the execution of spell clashes. Remember that a sorcerer wins if he succeeds in winning 3 spell clashes in a row.\n",
    "count= 0\n",
    "\n",
    "for spell in gandalf:\n",
    "    gandalf_power.append(POWER[spell])\n",
    "\n",
    "for spell in saruman:\n",
    "    saruman_power.append(POWER[spell])\n",
    "\n",
    "winner = \"\"\n",
    "\n",
    "for i in gandalf_power:\n",
    "    if gandalf_power[count] > saruman_power[count]: \n",
    "        gandalf_wins += 1\n",
    "        saruman_wins = 0\n",
    "    elif saruman_power[count] > gandalf_power[count]: \n",
    "        saruman_wins += 1\n",
    "        gandalf_wins = 0\n",
    "   \n",
    "    if gandalf_wins==3:\n",
    "        winner=\"Gandalf\"\n",
    "        break\n",
    "    elif saruman_wins==3:\n",
    "        winner=\"Saruman\"\n",
    "        break\n",
    "\n",
    "    count +=1  \n",
    "        \n",
    "if winner == \"\":\n",
    "    print(\"Tie!\")\n",
    "else: \n",
    "    print(\"The winner is\", winner, \"!\") \n",
    "    \n",
    "#5. Find the average spell power of Gandalf and Saruman.\n",
    "\n",
    "print(\"The average spell power of Gandalf is\", sum(gandalf_power)/len(gandalf_power))\n",
    "print(\"The average spell power of Saruman is\", sum(saruman_power)/len(saruman_power))\n",
    "\n",
    "#6. Find the standard deviation of the spell power of Gandalf and Saruman\n",
    "\n",
    "import statistics\n",
    "print(\"The standard deviation of saruman spell power is\", statistics.pstdev(gandalf_power))\n",
    "print(\"The standard deviation of saruman spell power is\", statistics.pstdev(saruman_power))"
   ]
  },
  {
   "cell_type": "code",
   "execution_count": null,
   "metadata": {},
   "outputs": [],
   "source": []
  },
  {
   "cell_type": "code",
   "execution_count": null,
   "metadata": {},
   "outputs": [],
   "source": []
  },
  {
   "cell_type": "code",
   "execution_count": null,
   "metadata": {},
   "outputs": [],
   "source": []
  },
  {
   "cell_type": "code",
   "execution_count": null,
   "metadata": {},
   "outputs": [],
   "source": []
  },
  {
   "cell_type": "code",
   "execution_count": null,
   "metadata": {},
   "outputs": [],
   "source": []
  }
 ],
 "metadata": {
  "kernelspec": {
   "display_name": "Python 3",
   "language": "python",
   "name": "python3"
  },
  "language_info": {
   "codemirror_mode": {
    "name": "ipython",
    "version": 3
   },
   "file_extension": ".py",
   "mimetype": "text/x-python",
   "name": "python",
   "nbconvert_exporter": "python",
   "pygments_lexer": "ipython3",
   "version": "3.8.5"
  }
 },
 "nbformat": 4,
 "nbformat_minor": 4
}
