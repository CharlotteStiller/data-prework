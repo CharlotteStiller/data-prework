{
 "cells": [
  {
   "cell_type": "code",
   "execution_count": 142,
   "metadata": {},
   "outputs": [
    {
     "name": "stdout",
     "output_type": "stream",
     "text": [
      "The minimum temperatur is 0 °C\n",
      "The maximum temperatur is 90 °C\n",
      "['70°C', '76°C', '80°C', '81°C', '80°C', '83°C', '90°C', '79°C']\n",
      "The average temperature is 60.25 °C\n",
      "[33, 66, 65, 62.5, 59, 60, 62, 64, 70, 76, 80, 81, 80, 83, 90, 79, 61, 53, 50, 49, 53, 48, 45, 39]\n",
      "[91, 151, 149, 144, 138, 140, 144, 147, 158, 169, 176, 178, 176, 181, 194, 174, 142, 127, 122, 120, 127, 118, 113, 102]\n",
      "The cooling system needs to be changed.\n"
     ]
    }
   ],
   "source": [
    "temperatures_C = [33, 66, 65, 0, 59, 60, 62, 64, 70, 76, 80, 81, 80, 83, 90, 79, 61, 53, 50, 49, 53, 48, 45, 39]\n",
    "\n",
    "#1. Find the minimum temperature of the day and store it in a variable\n",
    "\n",
    "minimum_temp = min(temperatures_C)\n",
    "\n",
    "print(\"The minimum temperatur is\" , minimum_temp , \"°C\")\n",
    "\n",
    "\n",
    "#2. Find the maximum temperature of the day and store it in a variable.\n",
    "\n",
    "maximum_temp = max(temperatures_C)\n",
    "\n",
    "print(\"The maximum temperatur is\" , maximum_temp , \"°C\")\n",
    "\n",
    "#3. Create a list with the temperatures that are greater than or equal to 70ºC. Store it in a variable.\n",
    "\n",
    "temp_70 = []\n",
    "\n",
    "for i in temperatures_C:\n",
    "    if i >= 70:\n",
    "        temp_70.append(str(i) + \"°C\")\n",
    "print(temp_70)\n",
    "\n",
    "#4. Find the average temperature of the day and store it in a variable.\n",
    "\n",
    "average_temp = (sum(temperatures_C)/len(temperatures_C))\n",
    "\n",
    "print(\"The average temperature is\", average_temp, \"°C\" )\n",
    "\n",
    "#5. Imagine that there was a sensor failure at 3am and the data for that specific hour was not recorded. How would you estimate the missing value? \n",
    "#   Replace the current value of the list at 3am for an estimation.\n",
    "\n",
    "temperatures_C[3] = (temperatures_C[1] + temperatures_C[2]+ temperatures_C[4] + temperatures_C[5])/4\n",
    "print(temperatures_C)\n",
    "\n",
    "#6. Bonus: The maintenance staff is from the United States and does not understand the international metric system. Help them by converting the temperatures from Celsius to Fahrenheit.\n",
    "\n",
    "temperatures_F = []\n",
    "\n",
    "for i in temperatures_C:\n",
    "    F = round(i*1.8 + 32)\n",
    "    temperatures_F.append(F)\n",
    "print(temperatures_F)\n",
    "\n",
    "#7. Make a decision!\n",
    "\n",
    "if len(temp_70) >= 4 or i >= 80 in temperatures_C or average_temp >= 65:\n",
    "    print(\"The cooling system needs to be changed.\")\n",
    "else: \n",
    "    print(\"The cooling system does not to be changed\")"
   ]
  },
  {
   "cell_type": "code",
   "execution_count": 148,
   "metadata": {},
   "outputs": [
    {
     "name": "stdout",
     "output_type": "stream",
     "text": [
      "[9, 10, 11, 12, 13, 14, 15]\n",
      "The temperature is higher than 70°C in more than 4 consective hours.\n",
      "The cooling system needs to be changed.\n",
      "The average temperature in ºC is 63  and the average temperature in ºF is 145 . The difference between them is 82\n",
      "The standard deviation of temperatures in ºC is 15\n",
      "The standard deviation of temperatures in ºF is 26\n",
      "The standard deviation in F is 1.81  times greater than the standard deviation in C\n"
     ]
    }
   ],
   "source": [
    "#BONUS \n",
    "#1. Create a list with the hours where the temperature is greater than 70ºC. Store it in a variable\n",
    "\n",
    "greater_70 = []\n",
    "for i in range(len(temperatures_C)):\n",
    "    if temperatures_C[i] > 70:\n",
    "            greater_70.append(i)\n",
    "    \n",
    "print(greater_70)\n",
    "\n",
    "\n",
    "#2. Check if the list you created in step 1 has more than 4 consecutive hours\n",
    "    \n",
    "row_count = 0\n",
    "row = []\n",
    "\n",
    "for i in temperatures_C:\n",
    "    if i < 70:\n",
    "        row_count = 0\n",
    "    elif i > 70:\n",
    "        row_count += 1\n",
    "        \n",
    "    if row_count == 5:\n",
    "        print (\"The temperature is higher than 70°C in more than 4 consective hours.\")  \n",
    "        row.append(row_count)\n",
    "        \n",
    "#3. Make the decision!\n",
    "if row[0] == 5 or i > 80 in temperatures_C or average_temp >= 65:\n",
    "    print(\"The cooling system needs to be changed.\")\n",
    "else: \n",
    "    print(\"The cooling system does not to be changed\")\n",
    "    \n",
    "#4. Find the average value of the temperature lists (ºC and ºF). What is the relation between both average values?\n",
    "\n",
    "average_temp = round(sum(temperatures_C)/len(temperatures_C))\n",
    "average_temp_F = round(sum(temperatures_F)/len(temperatures_F))\n",
    "relation_av_C_F = round(average_temp_F - average_temp)\n",
    "\n",
    "print(\"The average temperature in ºC is\", average_temp, \" and the average temperature in ºF is\", average_temp_F, \". The difference between them is\", relation_av_C_F)\n",
    "\n",
    "#5. Find the standard deviation of the temperature lists (ºC and ºF). What is the relation between both standard deviations?\n",
    "\n",
    "import statistics\n",
    "\n",
    "print(\"The standard deviation of temperatures in ºC is\", round(statistics.pstdev(temperatures_C)))\n",
    "print(\"The standard deviation of temperatures in ºF is\", round(statistics.pstdev(temperatures_F)))\n",
    "\n",
    "print(\"The standard deviation in F is\", round(stdev(temperatures_F)/stdev(temperatures_C), 2), \" times greater than the standard deviation in C\")"
   ]
  },
  {
   "cell_type": "code",
   "execution_count": null,
   "metadata": {},
   "outputs": [],
   "source": []
  },
  {
   "cell_type": "code",
   "execution_count": 129,
   "metadata": {},
   "outputs": [
    {
     "name": "stdout",
     "output_type": "stream",
     "text": [
      "[33, 66, 65, 62.5, 59, 60, 62, 64, 70, 76, 80, 81, 80, 83, 90, 79, 61, 53, 50, 49, 53, 48, 45, 39]\n"
     ]
    }
   ],
   "source": []
  },
  {
   "cell_type": "code",
   "execution_count": 130,
   "metadata": {},
   "outputs": [
    {
     "name": "stdout",
     "output_type": "stream",
     "text": [
      "[91, 151, 149, 144, 138, 140, 144, 147, 158, 169, 176, 178, 176, 181, 194, 174, 142, 127, 122, 120, 127, 118, 113, 102]\n"
     ]
    }
   ],
   "source": []
  },
  {
   "cell_type": "code",
   "execution_count": 131,
   "metadata": {},
   "outputs": [
    {
     "name": "stdout",
     "output_type": "stream",
     "text": [
      "The cooling system needs to be changed.\n"
     ]
    }
   ],
   "source": [
    "\n"
   ]
  },
  {
   "cell_type": "code",
   "execution_count": 132,
   "metadata": {},
   "outputs": [
    {
     "name": "stdout",
     "output_type": "stream",
     "text": [
      "[9, 10, 11, 12, 13, 14, 15]\n"
     ]
    }
   ],
   "source": []
  },
  {
   "cell_type": "code",
   "execution_count": 133,
   "metadata": {},
   "outputs": [
    {
     "name": "stdout",
     "output_type": "stream",
     "text": [
      "The temperature is higher than 70°C in more than 4 consective hours.\n"
     ]
    }
   ],
   "source": []
  },
  {
   "cell_type": "code",
   "execution_count": 134,
   "metadata": {},
   "outputs": [
    {
     "name": "stdout",
     "output_type": "stream",
     "text": [
      "The cooling system needs to be changed.\n"
     ]
    }
   ],
   "source": []
  },
  {
   "cell_type": "code",
   "execution_count": 135,
   "metadata": {},
   "outputs": [
    {
     "name": "stdout",
     "output_type": "stream",
     "text": [
      "The average temperature in ºC is 63  and the average temperature in ºF is 145 . The difference between them is 82\n"
     ]
    }
   ],
   "source": []
  },
  {
   "cell_type": "code",
   "execution_count": null,
   "metadata": {},
   "outputs": [],
   "source": []
  },
  {
   "cell_type": "code",
   "execution_count": null,
   "metadata": {},
   "outputs": [],
   "source": []
  }
 ],
 "metadata": {
  "kernelspec": {
   "display_name": "Python 3",
   "language": "python",
   "name": "python3"
  },
  "language_info": {
   "codemirror_mode": {
    "name": "ipython",
    "version": 3
   },
   "file_extension": ".py",
   "mimetype": "text/x-python",
   "name": "python",
   "nbconvert_exporter": "python",
   "pygments_lexer": "ipython3",
   "version": "3.8.5"
  }
 },
 "nbformat": 4,
 "nbformat_minor": 4
}
