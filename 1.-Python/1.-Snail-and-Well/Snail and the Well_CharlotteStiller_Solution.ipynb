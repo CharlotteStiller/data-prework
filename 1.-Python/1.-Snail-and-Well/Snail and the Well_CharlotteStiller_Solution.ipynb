{
 "cells": [
  {
   "cell_type": "code",
   "execution_count": 2,
   "metadata": {},
   "outputs": [
    {
     "name": "stdout",
     "output_type": "stream",
     "text": [
      "Snail is free in 13 days\n"
     ]
    }
   ],
   "source": [
    "# 1. Assign the challenge data to variables with representative names: well_height, daily_distance, nightly_distance and snail_position.\n",
    "well_height = 125\n",
    "daily_distance = 30\n",
    "nightly_distance = 20\n",
    "snail_position = 0\n",
    "\n",
    "# 2. Create a variable days to keep count of the days that pass until the snail escapes the well.\n",
    "days_that_pass = 0\n",
    "\n",
    "#3. Find the solution to the challenge using the variables defined above\n",
    "while snail_position < well_height:\n",
    "    days_that_pass += 1\n",
    "    snail_position += (daily_distance - nightly_distance)\n",
    "    if snail_position > well_height:\n",
    "#4. Print the solution.\n",
    "        print (\"Snail is free in\", days_that_pass ,\"days\")"
   ]
  },
  {
   "cell_type": "code",
   "execution_count": 18,
   "metadata": {},
   "outputs": [
    {
     "name": "stdout",
     "output_type": "stream",
     "text": [
      "The snail is free in 6 days\n"
     ]
    }
   ],
   "source": [
    "# Bonus 1. How many days does it take for the snail to escape the well?\n",
    "well_height = 125\n",
    "daily_distance = 30\n",
    "nightly_distance = -20\n",
    "snail_position = 0\n",
    "days_that_pass = 0\n",
    "advance_cm = [30, 21, 33, 77, 44, 45, 23, 45, 12, 34, 55]\n",
    "count=0\n",
    "\n",
    "snail_in_well = True\n",
    "while snail_in_well:\n",
    "    snail_position += advance_cm[count]\n",
    "    if snail_position > well_height:\n",
    "        snailinwell = False     \n",
    "\n",
    "    days_that_pass += 1\n",
    "\n",
    "    snail_position += nightly_distance\n",
    "    if snail_position > well_height:\n",
    "        snail_in_well = False\n",
    "        \n",
    "    count+=1\n",
    "\n",
    "print(\"The snail is free in\", days_that_pass, \"days\")"
   ]
  },
  {
   "cell_type": "code",
   "execution_count": 56,
   "metadata": {},
   "outputs": [
    {
     "name": "stdout",
     "output_type": "stream",
     "text": [
      "The maximum displacement is 57 cm.\n",
      "The minimum displacement is -8 cm.\n"
     ]
    }
   ],
   "source": [
    "# Bonus 2. What is its maximum displacement in one day? And its minimum? Calculate the displacement using only the travel distance of the days used to get out of the well\n",
    "\n",
    "new_list = []\n",
    "for i in advance_cm:\n",
    "    nighty = i-20\n",
    "    new_list.append(nighty)\n",
    "print(\"The maximum displacement is\", max(new_list), \"cm.\")\n",
    "print(\"The minimum displacement is\", min(new_list), \"cm.\")"
   ]
  },
  {
   "cell_type": "code",
   "execution_count": 54,
   "metadata": {},
   "outputs": [
    {
     "name": "stdout",
     "output_type": "stream",
     "text": [
      "The average is 18.09090909090909 cm.\n"
     ]
    }
   ],
   "source": [
    "# Bonus 3. What is its average progress? Take into account the snail slides at night.\n",
    "new_list = []\n",
    "for i in advance_cm:\n",
    "    nighty = i-20\n",
    "    new_list.append(nighty)\n",
    "\n",
    "avg_cm = sum(new_list)/len(new_list)\n",
    "print(\"The average is\", avg_cm, \"cm.\")"
   ]
  },
  {
   "cell_type": "code",
   "execution_count": 5,
   "metadata": {
    "scrolled": true
   },
   "outputs": [
    {
     "data": {
      "text/plain": [
       "17.159437082600803"
      ]
     },
     "execution_count": 5,
     "metadata": {},
     "output_type": "execute_result"
    }
   ],
   "source": [
    "# Bonus 4. What is the standard deviation of its displacement? Take into account the snail slides at night\n",
    "\n",
    "import statistics\n",
    "advance_cm = [30, 21, 33, 77, 44, 45, 23, 45, 12, 34, 55]\n",
    "statistics.pstdev(advance_cm)"
   ]
  },
  {
   "cell_type": "code",
   "execution_count": null,
   "metadata": {},
   "outputs": [],
   "source": []
  },
  {
   "cell_type": "code",
   "execution_count": null,
   "metadata": {},
   "outputs": [],
   "source": []
  },
  {
   "cell_type": "code",
   "execution_count": null,
   "metadata": {},
   "outputs": [],
   "source": []
  }
 ],
 "metadata": {
  "kernelspec": {
   "display_name": "Python 3",
   "language": "python",
   "name": "python3"
  },
  "language_info": {
   "codemirror_mode": {
    "name": "ipython",
    "version": 3
   },
   "file_extension": ".py",
   "mimetype": "text/x-python",
   "name": "python",
   "nbconvert_exporter": "python",
   "pygments_lexer": "ipython3",
   "version": "3.8.5"
  }
 },
 "nbformat": 4,
 "nbformat_minor": 4
}
