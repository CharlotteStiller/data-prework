{
 "cells": [
  {
   "cell_type": "code",
   "execution_count": null,
   "metadata": {},
   "outputs": [],
   "source": []
  },
  {
   "cell_type": "code",
   "execution_count": 43,
   "metadata": {},
   "outputs": [
    {
     "name": "stdout",
     "output_type": "stream",
     "text": [
      "The number of stops is 9 .\n",
      "Number of passengers at each stop [10, 13, 11, 10, 14, 10, 7, 5, 4]\n",
      "The maximum occupation of the bus is 14\n",
      "The average occupation is 9.333333333333334 and the standard deviation is 3.197221015541813\n"
     ]
    }
   ],
   "source": [
    "#stops = [(in1, out1), (in2, out2), (in3, out3), (in4, out4)]\n",
    "\n",
    "stops = [(10, 0), (4, 1), (3, 5), (3, 4), (5, 1), (1, 5), (5, 8), (4, 6), (2, 3)]\n",
    "\n",
    "#1. Calculate the number of stops\n",
    "number_stops = (len(stops))\n",
    "print(\"The number of stops is\", number_stops ,\".\")\n",
    "\n",
    "\n",
    "#2. Assign to a variable a list whose elements are the number of passengers at each stop (in-out).\n",
    "passengers = 0\n",
    "bus = []\n",
    "count = 0\n",
    "stops = [(10, 0), (4, 1), (3, 5), (3, 4), (5, 1), (1, 5), (5, 8), (4, 6), (2, 3)]\n",
    "for i in stops:\n",
    "    passengers += stops[count][0]\n",
    "    passengers -= stops[count][1]\n",
    "    bus.append(passengers)\n",
    "    \n",
    "    count += 1\n",
    "\n",
    "    \n",
    "print(\"Number of passengers at each stop\", bus)\n",
    "\n",
    "\n",
    "#3. Find the maximum occupation of the bus.\n",
    "print(\"The maximum occupation of the bus is\", max(bus))\n",
    "\n",
    "\n",
    "#4. Calculate the average occupation. And the standard deviation.\n",
    "import statistics\n",
    "print(\"The average occupation is\", sum(bus)/len(bus), \"and the standard deviation is\", statistics.pstdev(bus))"
   ]
  },
  {
   "cell_type": "code",
   "execution_count": null,
   "metadata": {},
   "outputs": [],
   "source": []
  },
  {
   "cell_type": "code",
   "execution_count": null,
   "metadata": {},
   "outputs": [],
   "source": []
  },
  {
   "cell_type": "code",
   "execution_count": null,
   "metadata": {},
   "outputs": [],
   "source": []
  },
  {
   "cell_type": "code",
   "execution_count": null,
   "metadata": {},
   "outputs": [],
   "source": []
  },
  {
   "cell_type": "code",
   "execution_count": null,
   "metadata": {},
   "outputs": [],
   "source": []
  },
  {
   "cell_type": "code",
   "execution_count": null,
   "metadata": {},
   "outputs": [],
   "source": []
  },
  {
   "cell_type": "code",
   "execution_count": null,
   "metadata": {},
   "outputs": [],
   "source": []
  }
 ],
 "metadata": {
  "kernelspec": {
   "display_name": "Python 3",
   "language": "python",
   "name": "python3"
  },
  "language_info": {
   "codemirror_mode": {
    "name": "ipython",
    "version": 3
   },
   "file_extension": ".py",
   "mimetype": "text/x-python",
   "name": "python",
   "nbconvert_exporter": "python",
   "pygments_lexer": "ipython3",
   "version": "3.8.5"
  }
 },
 "nbformat": 4,
 "nbformat_minor": 4
}
